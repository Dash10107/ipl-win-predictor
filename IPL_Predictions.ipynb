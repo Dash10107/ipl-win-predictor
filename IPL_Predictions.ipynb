{
  "cells": [
    {
      "cell_type": "code",
      "execution_count": 1,
      "metadata": {
        "id": "zyAxIwhSiick"
      },
      "outputs": [],
      "source": [
        "import numpy as np\n",
        "import pandas as pd"
      ]
    },
    {
      "cell_type": "code",
      "execution_count": null,
      "metadata": {
        "colab": {
          "base_uri": "https://localhost:8080/"
        },
        "id": "URVm5F1lnN2d",
        "outputId": "50c00edc-172e-4db5-ae98-567342e00c14"
      },
      "outputs": [],
      "source": [
        "import sklearn\n",
        "\n",
        "print(sklearn.__version__)\n"
      ]
    },
    {
      "cell_type": "code",
      "execution_count": 2,
      "metadata": {
        "id": "0Px7OKKVipzR"
      },
      "outputs": [],
      "source": [
        "match = pd.read_csv(\"matches.csv\")\n",
        "delivery = pd.read_csv(\"deliveries.csv\")"
      ]
    },
    {
      "cell_type": "code",
      "execution_count": null,
      "metadata": {
        "id": "EQO33Vmri8HX"
      },
      "outputs": [],
      "source": [
        "print(match.head(1))"
      ]
    },
    {
      "cell_type": "code",
      "execution_count": null,
      "metadata": {
        "id": "Zvo9v2k_jBQO"
      },
      "outputs": [],
      "source": [
        "print(delivery.head(1))"
      ]
    },
    {
      "cell_type": "code",
      "execution_count": 3,
      "metadata": {
        "colab": {
          "base_uri": "https://localhost:8080/"
        },
        "id": "hamCc15ZjKHp",
        "outputId": "06a44c96-2515-4ba7-c521-178fa60e86a4"
      },
      "outputs": [],
      "source": [
        "total_score_df = delivery.groupby(['match_id','inning']).sum()['total_runs'].reset_index()"
      ]
    },
    {
      "cell_type": "code",
      "execution_count": 4,
      "metadata": {
        "id": "f9IUFtGfkIWv"
      },
      "outputs": [],
      "source": [
        "total_score_df = total_score_df[total_score_df['inning']==1]"
      ]
    },
    {
      "cell_type": "code",
      "execution_count": 5,
      "metadata": {
        "id": "3zqouRbRkj1Z"
      },
      "outputs": [],
      "source": [
        "match_df = match.merge(total_score_df[['match_id','total_runs']],left_on='id',right_on='match_id')"
      ]
    },
    {
      "cell_type": "code",
      "execution_count": 6,
      "metadata": {
        "colab": {
          "base_uri": "https://localhost:8080/"
        },
        "id": "Qrol1HzwlDjT",
        "outputId": "15f18d77-667e-432b-aeb0-3bc35f190233"
      },
      "outputs": [
        {
          "name": "stdout",
          "output_type": "stream",
          "text": [
            "(756, 18)\n",
            "['Sunrisers Hyderabad' 'Mumbai Indians' 'Gujarat Lions'\n",
            " 'Rising Pune Supergiant' 'Royal Challengers Bangalore'\n",
            " 'Kolkata Knight Riders' 'Delhi Daredevils' 'Kings XI Punjab'\n",
            " 'Chennai Super Kings' 'Rajasthan Royals' 'Deccan Chargers'\n",
            " 'Kochi Tuskers Kerala' 'Pune Warriors' 'Rising Pune Supergiants'\n",
            " 'Delhi Capitals']\n"
          ]
        }
      ],
      "source": [
        "print(match.shape)\n",
        "print(match_df['team1'].unique())"
      ]
    },
    {
      "cell_type": "code",
      "execution_count": 7,
      "metadata": {
        "id": "8Db_Z7xJmvuS"
      },
      "outputs": [],
      "source": [
        "teams = [\n",
        "    'Sunrisers Hyderabad',\n",
        "    'Mumbai Indians',\n",
        "    'Royal Challengers Bangalore',\n",
        "    'Kolkata Knight Riders',\n",
        "    'Kings XI Punjab',\n",
        "    'Chennai Super Kings',\n",
        "    'Rajasthan Royals',\n",
        "    'Delhi Capitals'\n",
        "]"
      ]
    },
    {
      "cell_type": "code",
      "execution_count": 8,
      "metadata": {
        "id": "WHJnr-3mlYao"
      },
      "outputs": [],
      "source": [
        "\n",
        "\n",
        "match_df['team1'] = match_df['team1'].str.replace('Delhi Daredevils','Delhi Capitals')\n",
        "match_df['team2'] = match_df['team2'].str.replace('Delhi Daredevils','Delhi Capitals')\n",
        "\n",
        "match_df['team1'] = match_df['team1'].str.replace('Deccan Chargers','Sunrisers Hyderabad')\n",
        "match_df['team2'] = match_df['team2'].str.replace('Deccan Chargers','Sunrisers Hyderabad')\n",
        "\n",
        "match_df = match_df[match_df['team1'].isin(teams)]\n",
        "match_df = match_df[match_df['team2'].isin(teams)]"
      ]
    },
    {
      "cell_type": "code",
      "execution_count": 9,
      "metadata": {
        "id": "_LHmtSeOnQEH"
      },
      "outputs": [],
      "source": [
        "match_df = match_df[match_df['dl_applied'] == 0]"
      ]
    },
    {
      "cell_type": "code",
      "execution_count": 10,
      "metadata": {
        "colab": {
          "base_uri": "https://localhost:8080/"
        },
        "id": "B7rf-0b2mX2e",
        "outputId": "ec79add6-b983-4cc4-abba-adae53c641d6"
      },
      "outputs": [
        {
          "data": {
            "text/plain": [
              "(626, 20)"
            ]
          },
          "execution_count": 10,
          "metadata": {},
          "output_type": "execute_result"
        }
      ],
      "source": [
        "match_df.shape"
      ]
    },
    {
      "cell_type": "code",
      "execution_count": 11,
      "metadata": {
        "id": "qkr59nLGnbSU"
      },
      "outputs": [],
      "source": [
        "match_df = match_df[['match_id','city','winner','total_runs']]\n",
        "delivery_df = match_df.merge(delivery,on='match_id')\n",
        "delivery_df = delivery_df[delivery_df['inning'] == 2]"
      ]
    },
    {
      "cell_type": "code",
      "execution_count": 12,
      "metadata": {
        "colab": {
          "base_uri": "https://localhost:8080/"
        },
        "id": "Rm1eNCgjoDMv",
        "outputId": "9bc9d5cd-2127-4ecb-baa7-d53bb1f00a00"
      },
      "outputs": [],
      "source": [
        "groups = delivery_df.groupby('match_id')['total_runs_y']\n",
        "delivery_df['current_score'] = groups.transform(pd.Series.cumsum)\n",
        "delivery_df['runs_left'] = delivery_df['total_runs_x'] - delivery_df['current_score']\n",
        "delivery_df['balls_left'] = 126 - (delivery_df['over']*6 + delivery_df['ball'])"
      ]
    },
    {
      "cell_type": "code",
      "execution_count": 15,
      "metadata": {
        "id": "9XxOc9PpokUY"
      },
      "outputs": [
        {
          "data": {
            "text/html": [
              "<div>\n",
              "<style scoped>\n",
              "    .dataframe tbody tr th:only-of-type {\n",
              "        vertical-align: middle;\n",
              "    }\n",
              "\n",
              "    .dataframe tbody tr th {\n",
              "        vertical-align: top;\n",
              "    }\n",
              "\n",
              "    .dataframe thead th {\n",
              "        text-align: right;\n",
              "    }\n",
              "</style>\n",
              "<table border=\"1\" class=\"dataframe\">\n",
              "  <thead>\n",
              "    <tr style=\"text-align: right;\">\n",
              "      <th></th>\n",
              "      <th>match_id</th>\n",
              "      <th>city</th>\n",
              "      <th>winner</th>\n",
              "      <th>total_runs_x</th>\n",
              "      <th>inning</th>\n",
              "      <th>batting_team</th>\n",
              "      <th>bowling_team</th>\n",
              "      <th>over</th>\n",
              "      <th>ball</th>\n",
              "      <th>batsman</th>\n",
              "      <th>...</th>\n",
              "      <th>batsman_runs</th>\n",
              "      <th>extra_runs</th>\n",
              "      <th>total_runs_y</th>\n",
              "      <th>player_dismissed</th>\n",
              "      <th>dismissal_kind</th>\n",
              "      <th>fielder</th>\n",
              "      <th>current_score</th>\n",
              "      <th>runs_left</th>\n",
              "      <th>balls_left</th>\n",
              "      <th>wickets</th>\n",
              "    </tr>\n",
              "  </thead>\n",
              "  <tbody>\n",
              "    <tr>\n",
              "      <th>125</th>\n",
              "      <td>1</td>\n",
              "      <td>Hyderabad</td>\n",
              "      <td>Sunrisers Hyderabad</td>\n",
              "      <td>207</td>\n",
              "      <td>2</td>\n",
              "      <td>Royal Challengers Bangalore</td>\n",
              "      <td>Sunrisers Hyderabad</td>\n",
              "      <td>1</td>\n",
              "      <td>1</td>\n",
              "      <td>CH Gayle</td>\n",
              "      <td>...</td>\n",
              "      <td>1</td>\n",
              "      <td>0</td>\n",
              "      <td>1</td>\n",
              "      <td>0</td>\n",
              "      <td>NaN</td>\n",
              "      <td>NaN</td>\n",
              "      <td>1</td>\n",
              "      <td>206</td>\n",
              "      <td>119</td>\n",
              "      <td>10</td>\n",
              "    </tr>\n",
              "    <tr>\n",
              "      <th>126</th>\n",
              "      <td>1</td>\n",
              "      <td>Hyderabad</td>\n",
              "      <td>Sunrisers Hyderabad</td>\n",
              "      <td>207</td>\n",
              "      <td>2</td>\n",
              "      <td>Royal Challengers Bangalore</td>\n",
              "      <td>Sunrisers Hyderabad</td>\n",
              "      <td>1</td>\n",
              "      <td>2</td>\n",
              "      <td>Mandeep Singh</td>\n",
              "      <td>...</td>\n",
              "      <td>0</td>\n",
              "      <td>0</td>\n",
              "      <td>0</td>\n",
              "      <td>0</td>\n",
              "      <td>NaN</td>\n",
              "      <td>NaN</td>\n",
              "      <td>1</td>\n",
              "      <td>206</td>\n",
              "      <td>118</td>\n",
              "      <td>10</td>\n",
              "    </tr>\n",
              "    <tr>\n",
              "      <th>127</th>\n",
              "      <td>1</td>\n",
              "      <td>Hyderabad</td>\n",
              "      <td>Sunrisers Hyderabad</td>\n",
              "      <td>207</td>\n",
              "      <td>2</td>\n",
              "      <td>Royal Challengers Bangalore</td>\n",
              "      <td>Sunrisers Hyderabad</td>\n",
              "      <td>1</td>\n",
              "      <td>3</td>\n",
              "      <td>Mandeep Singh</td>\n",
              "      <td>...</td>\n",
              "      <td>0</td>\n",
              "      <td>0</td>\n",
              "      <td>0</td>\n",
              "      <td>0</td>\n",
              "      <td>NaN</td>\n",
              "      <td>NaN</td>\n",
              "      <td>1</td>\n",
              "      <td>206</td>\n",
              "      <td>117</td>\n",
              "      <td>10</td>\n",
              "    </tr>\n",
              "    <tr>\n",
              "      <th>128</th>\n",
              "      <td>1</td>\n",
              "      <td>Hyderabad</td>\n",
              "      <td>Sunrisers Hyderabad</td>\n",
              "      <td>207</td>\n",
              "      <td>2</td>\n",
              "      <td>Royal Challengers Bangalore</td>\n",
              "      <td>Sunrisers Hyderabad</td>\n",
              "      <td>1</td>\n",
              "      <td>4</td>\n",
              "      <td>Mandeep Singh</td>\n",
              "      <td>...</td>\n",
              "      <td>2</td>\n",
              "      <td>0</td>\n",
              "      <td>2</td>\n",
              "      <td>0</td>\n",
              "      <td>NaN</td>\n",
              "      <td>NaN</td>\n",
              "      <td>3</td>\n",
              "      <td>204</td>\n",
              "      <td>116</td>\n",
              "      <td>10</td>\n",
              "    </tr>\n",
              "    <tr>\n",
              "      <th>129</th>\n",
              "      <td>1</td>\n",
              "      <td>Hyderabad</td>\n",
              "      <td>Sunrisers Hyderabad</td>\n",
              "      <td>207</td>\n",
              "      <td>2</td>\n",
              "      <td>Royal Challengers Bangalore</td>\n",
              "      <td>Sunrisers Hyderabad</td>\n",
              "      <td>1</td>\n",
              "      <td>5</td>\n",
              "      <td>Mandeep Singh</td>\n",
              "      <td>...</td>\n",
              "      <td>4</td>\n",
              "      <td>0</td>\n",
              "      <td>4</td>\n",
              "      <td>0</td>\n",
              "      <td>NaN</td>\n",
              "      <td>NaN</td>\n",
              "      <td>7</td>\n",
              "      <td>200</td>\n",
              "      <td>115</td>\n",
              "      <td>10</td>\n",
              "    </tr>\n",
              "    <tr>\n",
              "      <th>...</th>\n",
              "      <td>...</td>\n",
              "      <td>...</td>\n",
              "      <td>...</td>\n",
              "      <td>...</td>\n",
              "      <td>...</td>\n",
              "      <td>...</td>\n",
              "      <td>...</td>\n",
              "      <td>...</td>\n",
              "      <td>...</td>\n",
              "      <td>...</td>\n",
              "      <td>...</td>\n",
              "      <td>...</td>\n",
              "      <td>...</td>\n",
              "      <td>...</td>\n",
              "      <td>...</td>\n",
              "      <td>...</td>\n",
              "      <td>...</td>\n",
              "      <td>...</td>\n",
              "      <td>...</td>\n",
              "      <td>...</td>\n",
              "      <td>...</td>\n",
              "    </tr>\n",
              "    <tr>\n",
              "      <th>149573</th>\n",
              "      <td>11415</td>\n",
              "      <td>Hyderabad</td>\n",
              "      <td>Mumbai Indians</td>\n",
              "      <td>152</td>\n",
              "      <td>2</td>\n",
              "      <td>Chennai Super Kings</td>\n",
              "      <td>Mumbai Indians</td>\n",
              "      <td>20</td>\n",
              "      <td>2</td>\n",
              "      <td>RA Jadeja</td>\n",
              "      <td>...</td>\n",
              "      <td>1</td>\n",
              "      <td>0</td>\n",
              "      <td>1</td>\n",
              "      <td>0</td>\n",
              "      <td>NaN</td>\n",
              "      <td>NaN</td>\n",
              "      <td>152</td>\n",
              "      <td>0</td>\n",
              "      <td>4</td>\n",
              "      <td>5</td>\n",
              "    </tr>\n",
              "    <tr>\n",
              "      <th>149574</th>\n",
              "      <td>11415</td>\n",
              "      <td>Hyderabad</td>\n",
              "      <td>Mumbai Indians</td>\n",
              "      <td>152</td>\n",
              "      <td>2</td>\n",
              "      <td>Chennai Super Kings</td>\n",
              "      <td>Mumbai Indians</td>\n",
              "      <td>20</td>\n",
              "      <td>3</td>\n",
              "      <td>SR Watson</td>\n",
              "      <td>...</td>\n",
              "      <td>2</td>\n",
              "      <td>0</td>\n",
              "      <td>2</td>\n",
              "      <td>0</td>\n",
              "      <td>NaN</td>\n",
              "      <td>NaN</td>\n",
              "      <td>154</td>\n",
              "      <td>-2</td>\n",
              "      <td>3</td>\n",
              "      <td>5</td>\n",
              "    </tr>\n",
              "    <tr>\n",
              "      <th>149575</th>\n",
              "      <td>11415</td>\n",
              "      <td>Hyderabad</td>\n",
              "      <td>Mumbai Indians</td>\n",
              "      <td>152</td>\n",
              "      <td>2</td>\n",
              "      <td>Chennai Super Kings</td>\n",
              "      <td>Mumbai Indians</td>\n",
              "      <td>20</td>\n",
              "      <td>4</td>\n",
              "      <td>SR Watson</td>\n",
              "      <td>...</td>\n",
              "      <td>1</td>\n",
              "      <td>0</td>\n",
              "      <td>1</td>\n",
              "      <td>1</td>\n",
              "      <td>run out</td>\n",
              "      <td>KH Pandya</td>\n",
              "      <td>155</td>\n",
              "      <td>-3</td>\n",
              "      <td>2</td>\n",
              "      <td>4</td>\n",
              "    </tr>\n",
              "    <tr>\n",
              "      <th>149576</th>\n",
              "      <td>11415</td>\n",
              "      <td>Hyderabad</td>\n",
              "      <td>Mumbai Indians</td>\n",
              "      <td>152</td>\n",
              "      <td>2</td>\n",
              "      <td>Chennai Super Kings</td>\n",
              "      <td>Mumbai Indians</td>\n",
              "      <td>20</td>\n",
              "      <td>5</td>\n",
              "      <td>SN Thakur</td>\n",
              "      <td>...</td>\n",
              "      <td>2</td>\n",
              "      <td>0</td>\n",
              "      <td>2</td>\n",
              "      <td>0</td>\n",
              "      <td>NaN</td>\n",
              "      <td>NaN</td>\n",
              "      <td>157</td>\n",
              "      <td>-5</td>\n",
              "      <td>1</td>\n",
              "      <td>4</td>\n",
              "    </tr>\n",
              "    <tr>\n",
              "      <th>149577</th>\n",
              "      <td>11415</td>\n",
              "      <td>Hyderabad</td>\n",
              "      <td>Mumbai Indians</td>\n",
              "      <td>152</td>\n",
              "      <td>2</td>\n",
              "      <td>Chennai Super Kings</td>\n",
              "      <td>Mumbai Indians</td>\n",
              "      <td>20</td>\n",
              "      <td>6</td>\n",
              "      <td>SN Thakur</td>\n",
              "      <td>...</td>\n",
              "      <td>0</td>\n",
              "      <td>0</td>\n",
              "      <td>0</td>\n",
              "      <td>1</td>\n",
              "      <td>lbw</td>\n",
              "      <td>NaN</td>\n",
              "      <td>157</td>\n",
              "      <td>-5</td>\n",
              "      <td>0</td>\n",
              "      <td>3</td>\n",
              "    </tr>\n",
              "  </tbody>\n",
              "</table>\n",
              "<p>72413 rows × 28 columns</p>\n",
              "</div>"
            ],
            "text/plain": [
              "        match_id       city               winner  total_runs_x  inning  \\\n",
              "125            1  Hyderabad  Sunrisers Hyderabad           207       2   \n",
              "126            1  Hyderabad  Sunrisers Hyderabad           207       2   \n",
              "127            1  Hyderabad  Sunrisers Hyderabad           207       2   \n",
              "128            1  Hyderabad  Sunrisers Hyderabad           207       2   \n",
              "129            1  Hyderabad  Sunrisers Hyderabad           207       2   \n",
              "...          ...        ...                  ...           ...     ...   \n",
              "149573     11415  Hyderabad       Mumbai Indians           152       2   \n",
              "149574     11415  Hyderabad       Mumbai Indians           152       2   \n",
              "149575     11415  Hyderabad       Mumbai Indians           152       2   \n",
              "149576     11415  Hyderabad       Mumbai Indians           152       2   \n",
              "149577     11415  Hyderabad       Mumbai Indians           152       2   \n",
              "\n",
              "                       batting_team         bowling_team  over  ball  \\\n",
              "125     Royal Challengers Bangalore  Sunrisers Hyderabad     1     1   \n",
              "126     Royal Challengers Bangalore  Sunrisers Hyderabad     1     2   \n",
              "127     Royal Challengers Bangalore  Sunrisers Hyderabad     1     3   \n",
              "128     Royal Challengers Bangalore  Sunrisers Hyderabad     1     4   \n",
              "129     Royal Challengers Bangalore  Sunrisers Hyderabad     1     5   \n",
              "...                             ...                  ...   ...   ...   \n",
              "149573          Chennai Super Kings       Mumbai Indians    20     2   \n",
              "149574          Chennai Super Kings       Mumbai Indians    20     3   \n",
              "149575          Chennai Super Kings       Mumbai Indians    20     4   \n",
              "149576          Chennai Super Kings       Mumbai Indians    20     5   \n",
              "149577          Chennai Super Kings       Mumbai Indians    20     6   \n",
              "\n",
              "              batsman  ... batsman_runs extra_runs  total_runs_y  \\\n",
              "125          CH Gayle  ...            1          0             1   \n",
              "126     Mandeep Singh  ...            0          0             0   \n",
              "127     Mandeep Singh  ...            0          0             0   \n",
              "128     Mandeep Singh  ...            2          0             2   \n",
              "129     Mandeep Singh  ...            4          0             4   \n",
              "...               ...  ...          ...        ...           ...   \n",
              "149573      RA Jadeja  ...            1          0             1   \n",
              "149574      SR Watson  ...            2          0             2   \n",
              "149575      SR Watson  ...            1          0             1   \n",
              "149576      SN Thakur  ...            2          0             2   \n",
              "149577      SN Thakur  ...            0          0             0   \n",
              "\n",
              "        player_dismissed  dismissal_kind    fielder  current_score  runs_left  \\\n",
              "125                    0             NaN        NaN              1        206   \n",
              "126                    0             NaN        NaN              1        206   \n",
              "127                    0             NaN        NaN              1        206   \n",
              "128                    0             NaN        NaN              3        204   \n",
              "129                    0             NaN        NaN              7        200   \n",
              "...                  ...             ...        ...            ...        ...   \n",
              "149573                 0             NaN        NaN            152          0   \n",
              "149574                 0             NaN        NaN            154         -2   \n",
              "149575                 1         run out  KH Pandya            155         -3   \n",
              "149576                 0             NaN        NaN            157         -5   \n",
              "149577                 1             lbw        NaN            157         -5   \n",
              "\n",
              "        balls_left  wickets  \n",
              "125            119       10  \n",
              "126            118       10  \n",
              "127            117       10  \n",
              "128            116       10  \n",
              "129            115       10  \n",
              "...            ...      ...  \n",
              "149573           4        5  \n",
              "149574           3        5  \n",
              "149575           2        4  \n",
              "149576           1        4  \n",
              "149577           0        3  \n",
              "\n",
              "[72413 rows x 28 columns]"
            ]
          },
          "execution_count": 15,
          "metadata": {},
          "output_type": "execute_result"
        }
      ],
      "source": [
        "delivery_df"
      ]
    },
    {
      "cell_type": "code",
      "execution_count": 14,
      "metadata": {
        "id": "RtWizLyWprKn"
      },
      "outputs": [],
      "source": [
        "delivery_df['player_dismissed'] = delivery_df['player_dismissed'].fillna(\"0\")\n",
        "delivery_df['player_dismissed'] = delivery_df['player_dismissed'].apply(lambda x:x if x == \"0\" else \"1\")\n",
        "delivery_df['player_dismissed'] = delivery_df['player_dismissed'].astype('int')\n",
        "# Assuming delivery_df is your DataFrame\n",
        "groups1 = delivery_df.groupby('match_id')['player_dismissed']\n",
        "wickets = groups1.transform(pd.Series.cumsum).values\n",
        "delivery_df['wickets'] = 10 - wickets\n"
      ]
    },
    {
      "cell_type": "code",
      "execution_count": 16,
      "metadata": {
        "id": "oC_uxWBvq4Mt"
      },
      "outputs": [],
      "source": [
        "# crr = runs/overs\n",
        "delivery_df['crr'] = (delivery_df['current_score']*6)/(120 - delivery_df['balls_left'])\n",
        "delivery_df['rrr'] = (delivery_df['runs_left']*6)/delivery_df['balls_left']"
      ]
    },
    {
      "cell_type": "code",
      "execution_count": 17,
      "metadata": {
        "id": "LqRb23WZrcBe"
      },
      "outputs": [],
      "source": [
        "def result(row):\n",
        "  return 1 if row['batting_team'] == row['winner'] else 0\n",
        "\n",
        "delivery_df['result'] = delivery_df.apply(result,axis=1)"
      ]
    },
    {
      "cell_type": "code",
      "execution_count": 18,
      "metadata": {
        "colab": {
          "base_uri": "https://localhost:8080/",
          "height": 81
        },
        "id": "cCM1j6zEsA8J",
        "outputId": "a797fa4e-a8da-4129-fe26-d25b2478eb65"
      },
      "outputs": [
        {
          "data": {
            "text/html": [
              "<div>\n",
              "<style scoped>\n",
              "    .dataframe tbody tr th:only-of-type {\n",
              "        vertical-align: middle;\n",
              "    }\n",
              "\n",
              "    .dataframe tbody tr th {\n",
              "        vertical-align: top;\n",
              "    }\n",
              "\n",
              "    .dataframe thead th {\n",
              "        text-align: right;\n",
              "    }\n",
              "</style>\n",
              "<table border=\"1\" class=\"dataframe\">\n",
              "  <thead>\n",
              "    <tr style=\"text-align: right;\">\n",
              "      <th></th>\n",
              "      <th>batting_team</th>\n",
              "      <th>bowling_team</th>\n",
              "      <th>city</th>\n",
              "      <th>runs_left</th>\n",
              "      <th>balls_left</th>\n",
              "      <th>wickets</th>\n",
              "      <th>total_runs_x</th>\n",
              "      <th>crr</th>\n",
              "      <th>rrr</th>\n",
              "      <th>result</th>\n",
              "    </tr>\n",
              "  </thead>\n",
              "  <tbody>\n",
              "    <tr>\n",
              "      <th>89601</th>\n",
              "      <td>Chennai Super Kings</td>\n",
              "      <td>Mumbai Indians</td>\n",
              "      <td>NaN</td>\n",
              "      <td>140</td>\n",
              "      <td>109</td>\n",
              "      <td>10</td>\n",
              "      <td>141</td>\n",
              "      <td>0.545455</td>\n",
              "      <td>7.706422</td>\n",
              "      <td>1</td>\n",
              "    </tr>\n",
              "  </tbody>\n",
              "</table>\n",
              "</div>"
            ],
            "text/plain": [
              "              batting_team    bowling_team city  runs_left  balls_left  \\\n",
              "89601  Chennai Super Kings  Mumbai Indians  NaN        140         109   \n",
              "\n",
              "       wickets  total_runs_x       crr       rrr  result  \n",
              "89601       10           141  0.545455  7.706422       1  "
            ]
          },
          "execution_count": 18,
          "metadata": {},
          "output_type": "execute_result"
        }
      ],
      "source": [
        "final_df = delivery_df[['batting_team','bowling_team','city','runs_left','balls_left','wickets','total_runs_x','crr','rrr','result']]\n",
        "final_df = final_df.sample(final_df.shape[0])\n",
        "\n",
        "final_df.sample()"
      ]
    },
    {
      "cell_type": "code",
      "execution_count": 19,
      "metadata": {
        "id": "SyMBv9ngsTmR"
      },
      "outputs": [],
      "source": [
        "final_df.dropna(inplace=True)"
      ]
    },
    {
      "cell_type": "code",
      "execution_count": 20,
      "metadata": {
        "id": "fflunL5wsVzh"
      },
      "outputs": [],
      "source": [
        "final_df = final_df[final_df['balls_left'] != 0]"
      ]
    },
    {
      "cell_type": "code",
      "execution_count": 21,
      "metadata": {
        "id": "GdI4SG_nsbOV"
      },
      "outputs": [],
      "source": [
        "X = final_df.iloc[:,:-1]\n",
        "y = final_df.iloc[:,-1]\n",
        "from sklearn.model_selection import train_test_split\n",
        "X_train,X_test,y_train,y_test = train_test_split(X,y,test_size=0.2,random_state=1)"
      ]
    },
    {
      "cell_type": "code",
      "execution_count": 22,
      "metadata": {
        "colab": {
          "base_uri": "https://localhost:8080/",
          "height": 424
        },
        "id": "OxfvpwSAsekH",
        "outputId": "b4338461-940e-4101-cb11-d0d3890cd31c"
      },
      "outputs": [
        {
          "data": {
            "text/html": [
              "<div>\n",
              "<style scoped>\n",
              "    .dataframe tbody tr th:only-of-type {\n",
              "        vertical-align: middle;\n",
              "    }\n",
              "\n",
              "    .dataframe tbody tr th {\n",
              "        vertical-align: top;\n",
              "    }\n",
              "\n",
              "    .dataframe thead th {\n",
              "        text-align: right;\n",
              "    }\n",
              "</style>\n",
              "<table border=\"1\" class=\"dataframe\">\n",
              "  <thead>\n",
              "    <tr style=\"text-align: right;\">\n",
              "      <th></th>\n",
              "      <th>batting_team</th>\n",
              "      <th>bowling_team</th>\n",
              "      <th>city</th>\n",
              "      <th>runs_left</th>\n",
              "      <th>balls_left</th>\n",
              "      <th>wickets</th>\n",
              "      <th>total_runs_x</th>\n",
              "      <th>crr</th>\n",
              "      <th>rrr</th>\n",
              "    </tr>\n",
              "  </thead>\n",
              "  <tbody>\n",
              "    <tr>\n",
              "      <th>129951</th>\n",
              "      <td>Kings XI Punjab</td>\n",
              "      <td>Rajasthan Royals</td>\n",
              "      <td>Indore</td>\n",
              "      <td>57</td>\n",
              "      <td>32</td>\n",
              "      <td>6</td>\n",
              "      <td>160</td>\n",
              "      <td>7.022727</td>\n",
              "      <td>10.687500</td>\n",
              "    </tr>\n",
              "    <tr>\n",
              "      <th>109221</th>\n",
              "      <td>Royal Challengers Bangalore</td>\n",
              "      <td>Chennai Super Kings</td>\n",
              "      <td>Chennai</td>\n",
              "      <td>43</td>\n",
              "      <td>27</td>\n",
              "      <td>5</td>\n",
              "      <td>148</td>\n",
              "      <td>6.774194</td>\n",
              "      <td>9.555556</td>\n",
              "    </tr>\n",
              "    <tr>\n",
              "      <th>56805</th>\n",
              "      <td>Kings XI Punjab</td>\n",
              "      <td>Deccan Chargers</td>\n",
              "      <td>Dharamsala</td>\n",
              "      <td>185</td>\n",
              "      <td>109</td>\n",
              "      <td>9</td>\n",
              "      <td>198</td>\n",
              "      <td>7.090909</td>\n",
              "      <td>10.183486</td>\n",
              "    </tr>\n",
              "    <tr>\n",
              "      <th>102092</th>\n",
              "      <td>Rajasthan Royals</td>\n",
              "      <td>Delhi Daredevils</td>\n",
              "      <td>Delhi</td>\n",
              "      <td>184</td>\n",
              "      <td>115</td>\n",
              "      <td>10</td>\n",
              "      <td>184</td>\n",
              "      <td>0.000000</td>\n",
              "      <td>9.600000</td>\n",
              "    </tr>\n",
              "    <tr>\n",
              "      <th>41986</th>\n",
              "      <td>Deccan Chargers</td>\n",
              "      <td>Rajasthan Royals</td>\n",
              "      <td>Nagpur</td>\n",
              "      <td>117</td>\n",
              "      <td>93</td>\n",
              "      <td>9</td>\n",
              "      <td>159</td>\n",
              "      <td>9.333333</td>\n",
              "      <td>7.548387</td>\n",
              "    </tr>\n",
              "    <tr>\n",
              "      <th>...</th>\n",
              "      <td>...</td>\n",
              "      <td>...</td>\n",
              "      <td>...</td>\n",
              "      <td>...</td>\n",
              "      <td>...</td>\n",
              "      <td>...</td>\n",
              "      <td>...</td>\n",
              "      <td>...</td>\n",
              "      <td>...</td>\n",
              "    </tr>\n",
              "    <tr>\n",
              "      <th>54718</th>\n",
              "      <td>Delhi Daredevils</td>\n",
              "      <td>Mumbai Indians</td>\n",
              "      <td>Mumbai</td>\n",
              "      <td>165</td>\n",
              "      <td>88</td>\n",
              "      <td>6</td>\n",
              "      <td>178</td>\n",
              "      <td>2.437500</td>\n",
              "      <td>11.250000</td>\n",
              "    </tr>\n",
              "    <tr>\n",
              "      <th>36679</th>\n",
              "      <td>Royal Challengers Bangalore</td>\n",
              "      <td>Mumbai Indians</td>\n",
              "      <td>Mumbai</td>\n",
              "      <td>15</td>\n",
              "      <td>19</td>\n",
              "      <td>8</td>\n",
              "      <td>151</td>\n",
              "      <td>8.079208</td>\n",
              "      <td>4.736842</td>\n",
              "    </tr>\n",
              "    <tr>\n",
              "      <th>31022</th>\n",
              "      <td>Rajasthan Royals</td>\n",
              "      <td>Delhi Daredevils</td>\n",
              "      <td>Bloemfontein</td>\n",
              "      <td>143</td>\n",
              "      <td>109</td>\n",
              "      <td>9</td>\n",
              "      <td>150</td>\n",
              "      <td>3.818182</td>\n",
              "      <td>7.871560</td>\n",
              "    </tr>\n",
              "    <tr>\n",
              "      <th>71794</th>\n",
              "      <td>Mumbai Indians</td>\n",
              "      <td>Chennai Super Kings</td>\n",
              "      <td>Bangalore</td>\n",
              "      <td>38</td>\n",
              "      <td>1</td>\n",
              "      <td>1</td>\n",
              "      <td>187</td>\n",
              "      <td>7.512605</td>\n",
              "      <td>228.000000</td>\n",
              "    </tr>\n",
              "    <tr>\n",
              "      <th>115425</th>\n",
              "      <td>Delhi Daredevils</td>\n",
              "      <td>Royal Challengers Bangalore</td>\n",
              "      <td>Bangalore</td>\n",
              "      <td>79</td>\n",
              "      <td>45</td>\n",
              "      <td>8</td>\n",
              "      <td>191</td>\n",
              "      <td>8.960000</td>\n",
              "      <td>10.533333</td>\n",
              "    </tr>\n",
              "  </tbody>\n",
              "</table>\n",
              "<p>57073 rows × 9 columns</p>\n",
              "</div>"
            ],
            "text/plain": [
              "                       batting_team                 bowling_team  \\\n",
              "129951              Kings XI Punjab             Rajasthan Royals   \n",
              "109221  Royal Challengers Bangalore          Chennai Super Kings   \n",
              "56805               Kings XI Punjab              Deccan Chargers   \n",
              "102092             Rajasthan Royals             Delhi Daredevils   \n",
              "41986               Deccan Chargers             Rajasthan Royals   \n",
              "...                             ...                          ...   \n",
              "54718              Delhi Daredevils               Mumbai Indians   \n",
              "36679   Royal Challengers Bangalore               Mumbai Indians   \n",
              "31022              Rajasthan Royals             Delhi Daredevils   \n",
              "71794                Mumbai Indians          Chennai Super Kings   \n",
              "115425             Delhi Daredevils  Royal Challengers Bangalore   \n",
              "\n",
              "                city  runs_left  balls_left  wickets  total_runs_x       crr  \\\n",
              "129951        Indore         57          32        6           160  7.022727   \n",
              "109221       Chennai         43          27        5           148  6.774194   \n",
              "56805     Dharamsala        185         109        9           198  7.090909   \n",
              "102092         Delhi        184         115       10           184  0.000000   \n",
              "41986         Nagpur        117          93        9           159  9.333333   \n",
              "...              ...        ...         ...      ...           ...       ...   \n",
              "54718         Mumbai        165          88        6           178  2.437500   \n",
              "36679         Mumbai         15          19        8           151  8.079208   \n",
              "31022   Bloemfontein        143         109        9           150  3.818182   \n",
              "71794      Bangalore         38           1        1           187  7.512605   \n",
              "115425     Bangalore         79          45        8           191  8.960000   \n",
              "\n",
              "               rrr  \n",
              "129951   10.687500  \n",
              "109221    9.555556  \n",
              "56805    10.183486  \n",
              "102092    9.600000  \n",
              "41986     7.548387  \n",
              "...            ...  \n",
              "54718    11.250000  \n",
              "36679     4.736842  \n",
              "31022     7.871560  \n",
              "71794   228.000000  \n",
              "115425   10.533333  \n",
              "\n",
              "[57073 rows x 9 columns]"
            ]
          },
          "execution_count": 22,
          "metadata": {},
          "output_type": "execute_result"
        }
      ],
      "source": [
        "X_train"
      ]
    },
    {
      "cell_type": "code",
      "execution_count": 23,
      "metadata": {
        "id": "0XOrZmPTsrRh"
      },
      "outputs": [],
      "source": [
        "from sklearn.compose import ColumnTransformer\n",
        "from sklearn.preprocessing import OneHotEncoder\n",
        "\n",
        "trf = ColumnTransformer([\n",
        "    ('trf',OneHotEncoder(sparse=False,drop='first'),['batting_team','bowling_team','city'])\n",
        "]\n",
        ",remainder='passthrough')"
      ]
    },
    {
      "cell_type": "code",
      "execution_count": 24,
      "metadata": {
        "colab": {
          "base_uri": "https://localhost:8080/"
        },
        "id": "hnLrL8GbsuUQ",
        "outputId": "f2dc3b73-a245-424c-d315-4976119b140b"
      },
      "outputs": [
        {
          "name": "stderr",
          "output_type": "stream",
          "text": [
            "/home/pd10/.local/lib/python3.8/site-packages/sklearn/preprocessing/_encoders.py:975: FutureWarning: `sparse` was renamed to `sparse_output` in version 1.2 and will be removed in 1.4. `sparse_output` is ignored unless you leave `sparse` to its default value.\n",
            "  warnings.warn(\n"
          ]
        }
      ],
      "source": [
        "from sklearn.linear_model import LogisticRegression\n",
        "from sklearn.ensemble import RandomForestClassifier\n",
        "from sklearn.pipeline import Pipeline\n",
        "pipe = Pipeline(steps=[\n",
        "    ('step1',trf),\n",
        "    ('step2',LogisticRegression(solver='liblinear'))\n",
        "])\n",
        "pipe.fit(X_train,y_train)\n",
        "y_pred = pipe.predict(X_test)"
      ]
    },
    {
      "cell_type": "code",
      "execution_count": 25,
      "metadata": {
        "colab": {
          "base_uri": "https://localhost:8080/"
        },
        "id": "E6BCstIwsvhz",
        "outputId": "6f7bf647-24ee-41d2-b2f1-f3b26f4b51b4"
      },
      "outputs": [
        {
          "data": {
            "text/plain": [
              "0.8050318873081506"
            ]
          },
          "execution_count": 25,
          "metadata": {},
          "output_type": "execute_result"
        }
      ],
      "source": [
        "from sklearn.metrics import accuracy_score\n",
        "accuracy_score(y_test,y_pred)"
      ]
    },
    {
      "cell_type": "code",
      "execution_count": 26,
      "metadata": {
        "colab": {
          "base_uri": "https://localhost:8080/"
        },
        "id": "KLCPtqa5s4VZ",
        "outputId": "0a083f39-b483-4b7e-a246-aaa164dca4ec"
      },
      "outputs": [
        {
          "data": {
            "text/plain": [
              "array([0.0271733, 0.9728267])"
            ]
          },
          "execution_count": 26,
          "metadata": {},
          "output_type": "execute_result"
        }
      ],
      "source": [
        "pipe.predict_proba(X_test)[10]"
      ]
    },
    {
      "cell_type": "code",
      "execution_count": 27,
      "metadata": {
        "id": "lKJN0_kCtB1K"
      },
      "outputs": [],
      "source": [
        "def match_summary(row):\n",
        "    print(\"Batting Team-\" + row['batting_team'] + \" | Bowling Team-\" + row['bowling_team'] + \" | Target- \" + str(row['total_runs_x']))\n"
      ]
    },
    {
      "cell_type": "code",
      "execution_count": 28,
      "metadata": {
        "id": "qy-m1yCatC1R"
      },
      "outputs": [],
      "source": [
        "def match_progression(x_df,match_id,pipe):\n",
        "    match = x_df[x_df['match_id'] == match_id]\n",
        "    match = match[(match['ball'] == 6)]\n",
        "    temp_df = match[['batting_team','bowling_team','city','runs_left','balls_left','wickets','total_runs_x','crr','rrr']].dropna()\n",
        "    temp_df = temp_df[temp_df['balls_left'] != 0]\n",
        "    result = pipe.predict_proba(temp_df)\n",
        "    temp_df['lose'] = np.round(result.T[0]*100,1)\n",
        "    temp_df['win'] = np.round(result.T[1]*100,1)\n",
        "    temp_df['end_of_over'] = range(1,temp_df.shape[0]+1)\n",
        "\n",
        "    target = temp_df['total_runs_x'].values[0]\n",
        "    runs = list(temp_df['runs_left'].values)\n",
        "    new_runs = runs[:]\n",
        "    runs.insert(0,target)\n",
        "    temp_df['runs_after_over'] = np.array(runs)[:-1] - np.array(new_runs)\n",
        "    wickets = list(temp_df['wickets'].values)\n",
        "    new_wickets = wickets[:]\n",
        "    new_wickets.insert(0,10)\n",
        "    wickets.append(0)\n",
        "    w = np.array(wickets)\n",
        "    nw = np.array(new_wickets)\n",
        "    temp_df['wickets_in_over'] = (nw - w)[0:temp_df.shape[0]]\n",
        "\n",
        "    print(\"Target-\",target)\n",
        "    temp_df = temp_df[['end_of_over','runs_after_over','wickets_in_over','lose','win']]\n",
        "    return temp_df,target"
      ]
    },
    {
      "cell_type": "code",
      "execution_count": 29,
      "metadata": {
        "colab": {
          "base_uri": "https://localhost:8080/",
          "height": 663
        },
        "id": "vsOHhGDItJXx",
        "outputId": "61063b24-22db-434a-b4f8-d77b1fd6bd42"
      },
      "outputs": [
        {
          "name": "stdout",
          "output_type": "stream",
          "text": [
            "Target- 178\n"
          ]
        },
        {
          "data": {
            "text/html": [
              "<div>\n",
              "<style scoped>\n",
              "    .dataframe tbody tr th:only-of-type {\n",
              "        vertical-align: middle;\n",
              "    }\n",
              "\n",
              "    .dataframe tbody tr th {\n",
              "        vertical-align: top;\n",
              "    }\n",
              "\n",
              "    .dataframe thead th {\n",
              "        text-align: right;\n",
              "    }\n",
              "</style>\n",
              "<table border=\"1\" class=\"dataframe\">\n",
              "  <thead>\n",
              "    <tr style=\"text-align: right;\">\n",
              "      <th></th>\n",
              "      <th>end_of_over</th>\n",
              "      <th>runs_after_over</th>\n",
              "      <th>wickets_in_over</th>\n",
              "      <th>lose</th>\n",
              "      <th>win</th>\n",
              "    </tr>\n",
              "  </thead>\n",
              "  <tbody>\n",
              "    <tr>\n",
              "      <th>10459</th>\n",
              "      <td>1</td>\n",
              "      <td>4</td>\n",
              "      <td>0</td>\n",
              "      <td>56.1</td>\n",
              "      <td>43.9</td>\n",
              "    </tr>\n",
              "    <tr>\n",
              "      <th>10467</th>\n",
              "      <td>2</td>\n",
              "      <td>8</td>\n",
              "      <td>0</td>\n",
              "      <td>50.6</td>\n",
              "      <td>49.4</td>\n",
              "    </tr>\n",
              "    <tr>\n",
              "      <th>10473</th>\n",
              "      <td>3</td>\n",
              "      <td>1</td>\n",
              "      <td>0</td>\n",
              "      <td>57.3</td>\n",
              "      <td>42.7</td>\n",
              "    </tr>\n",
              "    <tr>\n",
              "      <th>10479</th>\n",
              "      <td>4</td>\n",
              "      <td>7</td>\n",
              "      <td>1</td>\n",
              "      <td>69.0</td>\n",
              "      <td>31.0</td>\n",
              "    </tr>\n",
              "    <tr>\n",
              "      <th>10485</th>\n",
              "      <td>5</td>\n",
              "      <td>12</td>\n",
              "      <td>0</td>\n",
              "      <td>58.8</td>\n",
              "      <td>41.2</td>\n",
              "    </tr>\n",
              "    <tr>\n",
              "      <th>10491</th>\n",
              "      <td>6</td>\n",
              "      <td>13</td>\n",
              "      <td>0</td>\n",
              "      <td>46.4</td>\n",
              "      <td>53.6</td>\n",
              "    </tr>\n",
              "    <tr>\n",
              "      <th>10497</th>\n",
              "      <td>7</td>\n",
              "      <td>9</td>\n",
              "      <td>0</td>\n",
              "      <td>40.5</td>\n",
              "      <td>59.5</td>\n",
              "    </tr>\n",
              "    <tr>\n",
              "      <th>10505</th>\n",
              "      <td>8</td>\n",
              "      <td>15</td>\n",
              "      <td>0</td>\n",
              "      <td>26.8</td>\n",
              "      <td>73.2</td>\n",
              "    </tr>\n",
              "    <tr>\n",
              "      <th>10511</th>\n",
              "      <td>9</td>\n",
              "      <td>7</td>\n",
              "      <td>0</td>\n",
              "      <td>24.7</td>\n",
              "      <td>75.3</td>\n",
              "    </tr>\n",
              "    <tr>\n",
              "      <th>10518</th>\n",
              "      <td>10</td>\n",
              "      <td>17</td>\n",
              "      <td>0</td>\n",
              "      <td>13.5</td>\n",
              "      <td>86.5</td>\n",
              "    </tr>\n",
              "    <tr>\n",
              "      <th>10524</th>\n",
              "      <td>11</td>\n",
              "      <td>9</td>\n",
              "      <td>1</td>\n",
              "      <td>18.8</td>\n",
              "      <td>81.2</td>\n",
              "    </tr>\n",
              "    <tr>\n",
              "      <th>10530</th>\n",
              "      <td>12</td>\n",
              "      <td>9</td>\n",
              "      <td>0</td>\n",
              "      <td>15.4</td>\n",
              "      <td>84.6</td>\n",
              "    </tr>\n",
              "    <tr>\n",
              "      <th>10536</th>\n",
              "      <td>13</td>\n",
              "      <td>8</td>\n",
              "      <td>0</td>\n",
              "      <td>13.2</td>\n",
              "      <td>86.8</td>\n",
              "    </tr>\n",
              "    <tr>\n",
              "      <th>10542</th>\n",
              "      <td>14</td>\n",
              "      <td>8</td>\n",
              "      <td>0</td>\n",
              "      <td>11.3</td>\n",
              "      <td>88.7</td>\n",
              "    </tr>\n",
              "    <tr>\n",
              "      <th>10548</th>\n",
              "      <td>15</td>\n",
              "      <td>5</td>\n",
              "      <td>1</td>\n",
              "      <td>19.8</td>\n",
              "      <td>80.2</td>\n",
              "    </tr>\n",
              "    <tr>\n",
              "      <th>10555</th>\n",
              "      <td>16</td>\n",
              "      <td>8</td>\n",
              "      <td>1</td>\n",
              "      <td>28.3</td>\n",
              "      <td>71.7</td>\n",
              "    </tr>\n",
              "    <tr>\n",
              "      <th>10561</th>\n",
              "      <td>17</td>\n",
              "      <td>8</td>\n",
              "      <td>2</td>\n",
              "      <td>54.5</td>\n",
              "      <td>45.5</td>\n",
              "    </tr>\n",
              "    <tr>\n",
              "      <th>10567</th>\n",
              "      <td>18</td>\n",
              "      <td>6</td>\n",
              "      <td>1</td>\n",
              "      <td>69.7</td>\n",
              "      <td>30.3</td>\n",
              "    </tr>\n",
              "    <tr>\n",
              "      <th>10573</th>\n",
              "      <td>19</td>\n",
              "      <td>8</td>\n",
              "      <td>2</td>\n",
              "      <td>89.0</td>\n",
              "      <td>11.0</td>\n",
              "    </tr>\n",
              "  </tbody>\n",
              "</table>\n",
              "</div>"
            ],
            "text/plain": [
              "       end_of_over  runs_after_over  wickets_in_over  lose   win\n",
              "10459            1                4                0  56.1  43.9\n",
              "10467            2                8                0  50.6  49.4\n",
              "10473            3                1                0  57.3  42.7\n",
              "10479            4                7                1  69.0  31.0\n",
              "10485            5               12                0  58.8  41.2\n",
              "10491            6               13                0  46.4  53.6\n",
              "10497            7                9                0  40.5  59.5\n",
              "10505            8               15                0  26.8  73.2\n",
              "10511            9                7                0  24.7  75.3\n",
              "10518           10               17                0  13.5  86.5\n",
              "10524           11                9                1  18.8  81.2\n",
              "10530           12                9                0  15.4  84.6\n",
              "10536           13                8                0  13.2  86.8\n",
              "10542           14                8                0  11.3  88.7\n",
              "10548           15                5                1  19.8  80.2\n",
              "10555           16                8                1  28.3  71.7\n",
              "10561           17                8                2  54.5  45.5\n",
              "10567           18                6                1  69.7  30.3\n",
              "10573           19                8                2  89.0  11.0"
            ]
          },
          "execution_count": 29,
          "metadata": {},
          "output_type": "execute_result"
        }
      ],
      "source": [
        "temp_df,target = match_progression(delivery_df,74,pipe)\n",
        "temp_df"
      ]
    },
    {
      "cell_type": "code",
      "execution_count": 30,
      "metadata": {
        "colab": {
          "base_uri": "https://localhost:8080/",
          "height": 716
        },
        "id": "gCmxSM10tPzP",
        "outputId": "661edd0a-e41e-4957-baef-ece8858836e7"
      },
      "outputs": [
        {
          "data": {
            "text/plain": [
              "Text(0.5, 1.0, 'Target-178')"
            ]
          },
          "execution_count": 30,
          "metadata": {},
          "output_type": "execute_result"
        },
        {
          "data": {
            "image/png": "[encoded data removed]",
            "text/plain": [
              "<Figure size 1800x800 with 1 Axes>"
            ]
          },
          "metadata": {},
          "output_type": "display_data"
        }
      ],
      "source": [
        "import matplotlib.pyplot as plt\n",
        "plt.figure(figsize=(18,8))\n",
        "plt.plot(temp_df['end_of_over'],temp_df['wickets_in_over'],color='yellow',linewidth=3)\n",
        "plt.plot(temp_df['end_of_over'],temp_df['win'],color='#00a65a',linewidth=4)\n",
        "plt.plot(temp_df['end_of_over'],temp_df['lose'],color='red',linewidth=4)\n",
        "plt.bar(temp_df['end_of_over'],temp_df['runs_after_over'])\n",
        "plt.title('Target-' + str(target))"
      ]
    },
    {
      "cell_type": "code",
      "execution_count": 31,
      "metadata": {
        "id": "e48dbrg_tVvA"
      },
      "outputs": [],
      "source": [
        "import pickle\n",
        "pickle.dump(pipe,open('pipe.pkl','wb'))"
      ]
    }
  ],
  "metadata": {
    "colab": {
      "provenance": []
    },
    "kernelspec": {
      "display_name": "Python 3",
      "name": "python3"
    },
    "language_info": {
      "codemirror_mode": {
        "name": "ipython",
        "version": 3
      },
      "file_extension": ".py",
      "mimetype": "text/x-python",
      "name": "python",
      "nbconvert_exporter": "python",
      "pygments_lexer": "ipython3",
      "version": "3.8.10"
    }
  },
  "nbformat": 4,
  "nbformat_minor": 0
}
